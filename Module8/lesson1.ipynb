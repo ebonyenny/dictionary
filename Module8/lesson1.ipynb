{
 "cells": [
  {
   "cell_type": "code",
   "execution_count": 1,
   "metadata": {},
   "outputs": [
    {
     "name": "stderr",
     "output_type": "stream",
     "text": [
      "Matplotlib is building the font cache; this may take a moment.\n"
     ]
    }
   ],
   "source": [
    "import pandas as pd\n",
    "import numpy as np\n",
    "from matplotlib import pyplot as plt\n",
    "import seaborn as sb"
   ]
  },
  {
   "cell_type": "code",
   "execution_count": 7,
   "metadata": {},
   "outputs": [
    {
     "data": {
      "text/html": [
       "<div>\n",
       "<style scoped>\n",
       "    .dataframe tbody tr th:only-of-type {\n",
       "        vertical-align: middle;\n",
       "    }\n",
       "\n",
       "    .dataframe tbody tr th {\n",
       "        vertical-align: top;\n",
       "    }\n",
       "\n",
       "    .dataframe thead th {\n",
       "        text-align: right;\n",
       "    }\n",
       "</style>\n",
       "<table border=\"1\" class=\"dataframe\">\n",
       "  <thead>\n",
       "    <tr style=\"text-align: right;\">\n",
       "      <th></th>\n",
       "      <th>ID</th>\n",
       "      <th>Name</th>\n",
       "      <th>Maths</th>\n",
       "      <th>English</th>\n",
       "      <th>Chemistry</th>\n",
       "      <th>Physics</th>\n",
       "      <th>Geography</th>\n",
       "      <th>Biology</th>\n",
       "      <th>History</th>\n",
       "      <th>Accounting</th>\n",
       "      <th>Further Maths</th>\n",
       "    </tr>\n",
       "  </thead>\n",
       "  <tbody>\n",
       "    <tr>\n",
       "      <th>0</th>\n",
       "      <td>1</td>\n",
       "      <td>Tunde Badmus</td>\n",
       "      <td>78</td>\n",
       "      <td>69</td>\n",
       "      <td>50</td>\n",
       "      <td>68</td>\n",
       "      <td>72</td>\n",
       "      <td>67</td>\n",
       "      <td>86</td>\n",
       "      <td>69</td>\n",
       "      <td>56</td>\n",
       "    </tr>\n",
       "    <tr>\n",
       "      <th>1</th>\n",
       "      <td>2</td>\n",
       "      <td>Tinuke Folake</td>\n",
       "      <td>65</td>\n",
       "      <td>80</td>\n",
       "      <td>35</td>\n",
       "      <td>62</td>\n",
       "      <td>78</td>\n",
       "      <td>92</td>\n",
       "      <td>84</td>\n",
       "      <td>87</td>\n",
       "      <td>59</td>\n",
       "    </tr>\n",
       "    <tr>\n",
       "      <th>2</th>\n",
       "      <td>3</td>\n",
       "      <td>Tobi Lawal</td>\n",
       "      <td>80</td>\n",
       "      <td>56</td>\n",
       "      <td>82</td>\n",
       "      <td>64</td>\n",
       "      <td>80</td>\n",
       "      <td>86</td>\n",
       "      <td>92</td>\n",
       "      <td>50</td>\n",
       "      <td>60</td>\n",
       "    </tr>\n",
       "    <tr>\n",
       "      <th>3</th>\n",
       "      <td>4</td>\n",
       "      <td>Kehinde Ot</td>\n",
       "      <td>56</td>\n",
       "      <td>98</td>\n",
       "      <td>72</td>\n",
       "      <td>61</td>\n",
       "      <td>81</td>\n",
       "      <td>75</td>\n",
       "      <td>76</td>\n",
       "      <td>95</td>\n",
       "      <td>57</td>\n",
       "    </tr>\n",
       "    <tr>\n",
       "      <th>4</th>\n",
       "      <td>5</td>\n",
       "      <td>Ojetunde Samuel</td>\n",
       "      <td>70</td>\n",
       "      <td>49</td>\n",
       "      <td>64</td>\n",
       "      <td>63</td>\n",
       "      <td>86</td>\n",
       "      <td>81</td>\n",
       "      <td>94</td>\n",
       "      <td>73</td>\n",
       "      <td>62</td>\n",
       "    </tr>\n",
       "  </tbody>\n",
       "</table>\n",
       "</div>"
      ],
      "text/plain": [
       "   ID             Name  Maths  English  Chemistry  Physics  Geography  \\\n",
       "0   1     Tunde Badmus     78       69         50       68         72   \n",
       "1   2    Tinuke Folake     65       80         35       62         78   \n",
       "2   3       Tobi Lawal     80       56         82       64         80   \n",
       "3   4       Kehinde Ot     56       98         72       61         81   \n",
       "4   5  Ojetunde Samuel     70       49         64       63         86   \n",
       "\n",
       "   Biology  History  Accounting  Further Maths  \n",
       "0       67       86          69             56  \n",
       "1       92       84          87             59  \n",
       "2       86       92          50             60  \n",
       "3       75       76          95             57  \n",
       "4       81       94          73             62  "
      ]
     },
     "execution_count": 7,
     "metadata": {},
     "output_type": "execute_result"
    }
   ],
   "source": [
    "df = pd.read_csv('C:/Users/Dorcas/Desktop/SGI 1.3/python basics/waec_marks.csv')\n",
    "df.head()"
   ]
  },
  {
   "cell_type": "markdown",
   "metadata": {},
   "source": [
    "BAR CHART"
   ]
  },
  {
   "cell_type": "code",
   "execution_count": 13,
   "metadata": {},
   "outputs": [
    {
     "data": {
      "image/png": "[encoded data removed]",
      "text/plain": [
       "<Figure size 640x480 with 1 Axes>"
      ]
     },
     "metadata": {},
     "output_type": "display_data"
    }
   ],
   "source": [
    "sb.barplot(data=df, x='Name', y='Chemistry')\n",
    "plt.show()"
   ]
  }
 ],
 "metadata": {
  "kernelspec": {
   "display_name": "Python 3.10.5 64-bit",
   "language": "python",
   "name": "python3"
  },
  "language_info": {
   "codemirror_mode": {
    "name": "ipython",
    "version": 3
   },
   "file_extension": ".py",
   "mimetype": "text/x-python",
   "name": "python",
   "nbconvert_exporter": "python",
   "pygments_lexer": "ipython3",
   "version": "3.10.5"
  },
  "orig_nbformat": 4,
  "vscode": {
   "interpreter": {
    "hash": "69170ee94dc4b8e55f3a2f9096eaf89a88475cb63887f21a19f6fb18ded7cb1b"
   }
  }
 },
 "nbformat": 4,
 "nbformat_minor": 2
}
